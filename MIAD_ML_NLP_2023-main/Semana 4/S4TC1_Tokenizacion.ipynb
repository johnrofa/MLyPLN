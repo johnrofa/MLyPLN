{
 "cells": [
  {
   "cell_type": "markdown",
   "metadata": {},
   "source": [
    "![image info](https://raw.githubusercontent.com/albahnsen/MIAD_ML_and_NLP/main/images/banner_1.png)"
   ]
  },
  {
   "cell_type": "markdown",
   "metadata": {},
   "source": [
    "# Taller: Tokenización de textos  \n",
    "\n",
    "En este taller podrán poner en práctica sus conocimientos sobre preprocesamiento de texto (tokenización). El taller está constituido por 5 puntos, en los cuales deberan seguir las intrucciones de cada numeral para su desarrollo."
   ]
  },
  {
   "cell_type": "markdown",
   "metadata": {},
   "source": [
    "## Datos detección de toxicidad en comentarios\n",
    "\n",
    "En este taller se usará el conjunto de datos de detección de toxicidad en comentarios de la base de datos de Kaggle. Cada observación es un comentario que tiene como variable objetivo (target) la probabilidad de ser un comentario tóxico. El objetivo es predecir la toxicidad de cada comentario. Para más detalles pueden visitar el siguiente enlace: [datos](https://www.kaggle.com/c/jigsaw-unintended-bias-in-toxicity-classification/data)."
   ]
  },
  {
   "cell_type": "code",
   "execution_count": 35,
   "metadata": {},
   "outputs": [],
   "source": [
    "import warnings\n",
    "warnings.filterwarnings('ignore')"
   ]
  },
  {
   "cell_type": "code",
   "execution_count": 36,
   "metadata": {},
   "outputs": [],
   "source": [
    "# Importación librerías\n",
    "import pandas as pd\n",
    "import numpy as np\n",
    "import scipy as sp\n",
    "from sklearn.model_selection import train_test_split, cross_val_score\n",
    "from sklearn.feature_extraction.text import CountVectorizer, TfidfVectorizer\n",
    "from sklearn.ensemble import RandomForestRegressor\n",
    "from sklearn.metrics import mean_squared_error as mse\n",
    "from sklearn import metrics\n",
    "%matplotlib inline\n",
    "import matplotlib.pyplot as plt"
   ]
  },
  {
   "cell_type": "code",
   "execution_count": 37,
   "metadata": {},
   "outputs": [
    {
     "data": {
      "text/html": [
       "<div>\n",
       "<style scoped>\n",
       "    .dataframe tbody tr th:only-of-type {\n",
       "        vertical-align: middle;\n",
       "    }\n",
       "\n",
       "    .dataframe tbody tr th {\n",
       "        vertical-align: top;\n",
       "    }\n",
       "\n",
       "    .dataframe thead th {\n",
       "        text-align: right;\n",
       "    }\n",
       "</style>\n",
       "<table border=\"1\" class=\"dataframe\">\n",
       "  <thead>\n",
       "    <tr style=\"text-align: right;\">\n",
       "      <th></th>\n",
       "      <th>id</th>\n",
       "      <th>comment_text</th>\n",
       "      <th>target</th>\n",
       "    </tr>\n",
       "  </thead>\n",
       "  <tbody>\n",
       "    <tr>\n",
       "      <th>0</th>\n",
       "      <td>6101457</td>\n",
       "      <td>What are you talking about? What group do Pete...</td>\n",
       "      <td>0.0</td>\n",
       "    </tr>\n",
       "    <tr>\n",
       "      <th>1</th>\n",
       "      <td>5342103</td>\n",
       "      <td>NO!, Let him, we need a Conservative government.</td>\n",
       "      <td>0.0</td>\n",
       "    </tr>\n",
       "    <tr>\n",
       "      <th>2</th>\n",
       "      <td>743361</td>\n",
       "      <td>Perhaps he took the \"power out of the Cardinal...</td>\n",
       "      <td>0.2</td>\n",
       "    </tr>\n",
       "    <tr>\n",
       "      <th>3</th>\n",
       "      <td>551008</td>\n",
       "      <td>As always, yours is dripping with sarcasm, whi...</td>\n",
       "      <td>0.0</td>\n",
       "    </tr>\n",
       "    <tr>\n",
       "      <th>4</th>\n",
       "      <td>865998</td>\n",
       "      <td>The dirty little secret is that the price rang...</td>\n",
       "      <td>0.3</td>\n",
       "    </tr>\n",
       "  </tbody>\n",
       "</table>\n",
       "</div>"
      ],
      "text/plain": [
       "        id                                       comment_text  target\n",
       "0  6101457  What are you talking about? What group do Pete...     0.0\n",
       "1  5342103   NO!, Let him, we need a Conservative government.     0.0\n",
       "2   743361  Perhaps he took the \"power out of the Cardinal...     0.2\n",
       "3   551008  As always, yours is dripping with sarcasm, whi...     0.0\n",
       "4   865998  The dirty little secret is that the price rang...     0.3"
      ]
     },
     "execution_count": 37,
     "metadata": {},
     "output_type": "execute_result"
    }
   ],
   "source": [
    "# Carga de datos de archivos .csv\n",
    "df = pd.read_csv('https://raw.githubusercontent.com/davidzarruk/MIAD_ML_NLP_2023/main/datasets/Toxicity.zip')\n",
    "df = df[['id','comment_text', 'target']]\n",
    "df.head()"
   ]
  },
  {
   "cell_type": "code",
   "execution_count": 38,
   "metadata": {},
   "outputs": [
    {
     "data": {
      "text/plain": [
       "<AxesSubplot:>"
      ]
     },
     "execution_count": 38,
     "metadata": {},
     "output_type": "execute_result"
    },
    {
     "data": {
      "image/png": "[encoded data removed]",
      "text/plain": [
       "<Figure size 432x288 with 1 Axes>"
      ]
     },
     "metadata": {
      "needs_background": "light"
     },
     "output_type": "display_data"
    }
   ],
   "source": [
    "# Impresión histograma de variable de interés (y)\n",
    "df.target.hist()"
   ]
  },
  {
   "cell_type": "code",
   "execution_count": 39,
   "metadata": {},
   "outputs": [
    {
     "data": {
      "text/plain": [
       "count    541462.000000\n",
       "mean          0.102991\n",
       "std           0.196979\n",
       "min           0.000000\n",
       "25%           0.000000\n",
       "50%           0.000000\n",
       "75%           0.166667\n",
       "max           1.000000\n",
       "Name: target, dtype: float64"
      ]
     },
     "execution_count": 39,
     "metadata": {},
     "output_type": "execute_result"
    }
   ],
   "source": [
    "# Separación de variable de interés (y)\n",
    "y = df.target\n",
    "y.describe()"
   ]
  },
  {
   "cell_type": "code",
   "execution_count": 40,
   "metadata": {},
   "outputs": [],
   "source": [
    "# Separación de variables predictoras (X), solo se considera el texto de la noticia\n",
    "X = df.comment_text"
   ]
  },
  {
   "cell_type": "code",
   "execution_count": 41,
   "metadata": {},
   "outputs": [],
   "source": [
    "# Separación de datos en set de entrenamiento y test\n",
    "X_train, X_test, y_train, y_test = train_test_split(X, y, test_size=0.33, random_state=42)"
   ]
  },
  {
   "cell_type": "markdown",
   "metadata": {},
   "source": [
    "## Punto 1 - Tokenización con CountVectorizer\n",
    "\n",
    "En la celda 1 creen y entrenen el modelo de regresión de su preferencia, para que prediga la probabilidad de que un comentario sea tóxico, usando los set de entrenamiento y test definidos anteriormente. Usen la función **CountVectorizer** para preprocesar los comentarios y presenten el desempeño del modelo con la métrica del MSE.\n",
    "\n",
    "Recuerden que el preprocesamiento que se haga sobre los datos de entrenamiento  (*.fit_transform()*) deben ser aplicado al set de test (*.transform()*)."
   ]
  },
  {
   "cell_type": "code",
   "execution_count": 42,
   "metadata": {},
   "outputs": [],
   "source": [
    "# Celda 1\n",
    "vect1 = CountVectorizer(lowercase=False)\n",
    "Xtr_vec_1 = vect1.fit_transform(X_train)\n",
    "Xte_vec_1 = vect1.transform(X_test)"
   ]
  },
  {
   "cell_type": "code",
   "execution_count": 46,
   "metadata": {},
   "outputs": [],
   "source": [
    "regRF = RandomForestRegressor(max_depth = 17, max_features = 4, min_samples_leaf=5, n_jobs=-1).fit(Xtr_vec_1, y_train)\n",
    "ypredTrRF = regRF.predict(Xtr_vec_1)\n",
    "ypredRF = regRF.predict(Xte_vec_1)"
   ]
  },
  {
   "cell_type": "code",
   "execution_count": 47,
   "metadata": {},
   "outputs": [
    {
     "data": {
      "text/plain": [
       "0.03868406134102928"
      ]
     },
     "execution_count": 47,
     "metadata": {},
     "output_type": "execute_result"
    }
   ],
   "source": [
    "mseTr1 = mse(ypredTrRF, y_train)\n",
    "mseTr1"
   ]
  },
  {
   "cell_type": "code",
   "execution_count": 48,
   "metadata": {},
   "outputs": [
    {
     "data": {
      "text/plain": [
       "0.03903216112119897"
      ]
     },
     "execution_count": 48,
     "metadata": {},
     "output_type": "execute_result"
    }
   ],
   "source": [
    "mse1 = mse(ypredRF, y_test)\n",
    "mse1"
   ]
  },
  {
   "cell_type": "markdown",
   "metadata": {},
   "source": [
    "## Punto 2 - Tokenización con CountVectorizer y trigramas\n",
    "\n",
    "En la celda 2 creen y entrenen el mismo modelo de regresión del punto anterior (es decir si usaron un RandomForestRegresor usen nuevamente ese regresor), para que prediga la probabilidad de que un comentario sea tóxico, usando los set de entrenamiento y test definidos anteriormente. Usen la función CountVectorizer **considerando trigramas** para preprocesar los comentarios y presenten el desempeño del modelo con la métrica del MSE.\n",
    "\n",
    "Recuerden que el preprocesamiento que se haga sobre los datos de entrenamiento  (*.fit_transform()*) deben ser aplicado al set de test (*.transform()*)."
   ]
  },
  {
   "cell_type": "code",
   "execution_count": 49,
   "metadata": {},
   "outputs": [],
   "source": [
    "# Celda 2\n",
    "vect3 = CountVectorizer(lowercase=False, ngram_range=(3, 3))\n",
    "Xtr_vec_3 = vect3.fit_transform(X_train)\n",
    "Xte_vec_3 = vect3.transform(X_test)"
   ]
  },
  {
   "cell_type": "code",
   "execution_count": 50,
   "metadata": {},
   "outputs": [],
   "source": [
    "regRF3 = RandomForestRegressor(max_depth = 17, max_features = 4, min_samples_leaf=5, n_jobs=-1).fit(Xtr_vec_3, y_train)\n",
    "ypredTrRF3 = regRF3.predict(Xtr_vec_3)\n",
    "ypredRF3 = regRF3.predict(Xte_vec_3)"
   ]
  },
  {
   "cell_type": "code",
   "execution_count": 51,
   "metadata": {},
   "outputs": [
    {
     "data": {
      "text/plain": [
       "0.03868588895081745"
      ]
     },
     "execution_count": 51,
     "metadata": {},
     "output_type": "execute_result"
    }
   ],
   "source": [
    "mseTr3 = mse(ypredTrRF3, y_train)\n",
    "mseTr3"
   ]
  },
  {
   "cell_type": "code",
   "execution_count": 52,
   "metadata": {},
   "outputs": [
    {
     "data": {
      "text/plain": [
       "0.03903357183031168"
      ]
     },
     "execution_count": 52,
     "metadata": {},
     "output_type": "execute_result"
    }
   ],
   "source": [
    "mse3 = mse(ypredRF3, y_test)\n",
    "mse3"
   ]
  },
  {
   "cell_type": "markdown",
   "metadata": {},
   "source": [
    "## Punto 3 - TfidfVectorizer\n",
    "\n",
    "Investigen sobre la función TfidfVectorizer. En la celda de texto 3, expliquen en qué consiste esta técnica de tokenización (describanla y expliquen su funcionamiento) y cúales son las ventajas o deventajas de su uso al compararlo con la función CountVectorizer."
   ]
  },
  {
   "cell_type": "markdown",
   "metadata": {},
   "source": [
    "#Celda 3\n",
    "### ¿En qué consiste la técnica de TfidfVectorizer?\n",
    "TfidfVectorizer es una técnica que calcula la frecuencia de cada palabra (tokens individuales) en un documento (CountVectorizer), y adicionalmente, tiene en cuenta la frecuencia con la que aparece la palabra dentro de una colección de documentos (corpus).\n",
    "\n",
    "TfidfVectorizer funciona construyendo primero un vocabulario de todas las palabras únicas en el corpus y luego calculando el puntaje TF-IDF para cada palabra en cada documento. \n",
    "\n",
    "Por lo tanto, CountVectorizer y TfidfVectorizer tienen la limitación de  manejar palabras fuera del vocabulario. Si una palabra aparece en un documento de prueba, pero no en el corpus de entrenamiento, se tratará como una palabra nueva y no tendrá un peso predefinido. Esto puede conducir a resultados inexactos si el documento de prueba contiene muchas palabras nuevas o raras.\n",
    "\n",
    "TfidfVectorizer calcula la puntuación TF-IDF para cada palabra en cada documento del corpus utilizando la siguiente fórmula: TF-IDF (palabra, documento) = Frecuencia del término (palabra, documento) * Frecuencia inversa del documento (palabra), donde: \n",
    "\n",
    "- Frecuencia del término (palabra, documento) TF es la frecuencia de la palabra en el documento, calculada como el número de veces que aparece la palabra en el documento dividido por el número total de palabras en el documento. \n",
    "- Frecuencia inversa del documento (palabra) IDF es una medida de la frecuencia con la que aparece la palabra en todos los documentos del corpus, calculada como el logaritmo del número total de documentos del corpus dividido por el número de documentos que contienen la palabra. \n"
   ]
  },
  {
   "cell_type": "markdown",
   "metadata": {},
   "source": [
    "####                                                                                  TF­IDF=TF*IDF"
   ]
  },
  {
   "cell_type": "markdown",
   "metadata": {},
   "source": [
    "Donde:"
   ]
  },
  {
   "cell_type": "markdown",
   "metadata": {},
   "source": [
    "#### TF=(Numero de veces que una palabra aparece en el documento)/(Numero total de palabras en el documento)"
   ]
  },
  {
   "cell_type": "markdown",
   "metadata": {},
   "source": [
    "#### IDF=log((Numero de documentos en el Corpus)/(Numero de documentos en el Corpus que contienen la palabra))"
   ]
  },
  {
   "cell_type": "markdown",
   "metadata": {},
   "source": [
    "Existen algunos enfoques diferentes para calcular la puntuación IDF. El logaritmo de base 10 se usa a menudo en el cálculo. Sin embargo, algunas bibliotecas usan un logaritmo natural. Además, se puede agregar uno al denominador de la siguiente manera para evitar la división por cero."
   ]
  },
  {
   "cell_type": "markdown",
   "metadata": {},
   "source": [
    "#### IDF=log((Numero de documentos en el Corpus)/(Numero de documentos en el Corpus que contienen la palabra+1))"
   ]
  },
  {
   "cell_type": "markdown",
   "metadata": {},
   "source": [
    "La puntuación TF-IDF refleja la importancia de una palabra para un documento en particular en relación con su importancia en todo el corpus. Las palabras que son comunes en un documento en particular, pero raras en todo el corpus recibirán una puntuación TF-IDF alta y se considerarán más importantes para distinguir entre diferentes documentos. \n",
    "\n",
    "TfidfVectorizer implementa este cálculo de una manera simple y eficiente, primero creando un vocabulario de todas las palabras únicas en el corpus y luego calculando el puntaje TF-IDF para cada palabra en cada documento usando la fórmula anterior. La matriz resultante representa la puntuación TF-IDF de cada palabra en cada documento.\n",
    "\n",
    "En otras palabras, es una herramienta que convierte datos de texto en un formato numérico que puede usarse para modelos de aprendizaje automático para varias tareas de Procesamiento de Lenguaje Natural (NLP).\n"
   ]
  },
  {
   "cell_type": "markdown",
   "metadata": {},
   "source": [
    "### Ventajas y desventajas frente a su uso al compararlo con la función CountVectorize"
   ]
  },
  {
   "cell_type": "markdown",
   "metadata": {},
   "source": [
    "CountVectorizer cuenta la frecuencia de cada palabra en un documento. Esto puede ser útil cuando desea encontrar las palabras más comunes en un corpus o cuando desea clasificar documentos de texto según la frecuencia de ciertas palabras. Sin embargo, no tiene en cuenta el hecho de que algunas palabras pueden ser más importantes que otras para distinguir entre diferentes documentos.\n",
    "\n",
    "Es importante mencionar que CountVectorizer trata todas las palabras por igual, independientemente de su importancia para distinguir entre diferentes documentos (corpus). Esto significa que a palabras comunes como “un / una”, \"el / la\" y \"a\" se les puede dar demasiado peso, mientras que, a palabras menos comunes, pero más importantes se les puede dar muy poco peso. Además, CountVectorizer no captura el contexto de las palabras.\n",
    "\n",
    "Por su parte, TfidfVectorizer, calcula la \"frecuencia de término-frecuencia de documento inversa\" (TF-IDF) de cada palabra en un documento. Esto tiene en cuenta no solo la frecuencia con la que aparece una palabra en un documento, sino también la frecuencia con la que aparece en todos los documentos del corpus. Esto significa que las palabras que son comunes en todos los documentos tienen menos peso, mientras que las palabras que son raras en el corpus pero que aparecen con frecuencia en un documento específico tienen más peso. Esto puede ser útil en los casos en los que desea encontrar palabras que son específicas de ciertos documentos o cuando desea identificar palabras clave importantes para un documento determinado.\n"
   ]
  },
  {
   "cell_type": "markdown",
   "metadata": {},
   "source": [
    "Sin embargo, TfidfVectorizer no considera el orden de las palabras en un documento. Esto significa que dos documentos con las mismas palabras en diferente orden pueden tener los mismos puntajes TF-IDF, aunque tengan diferentes significados. Además, TfidfVectorizer puede estar sesgado hacia documentos más largos, ya que tienden a tener más palabras y, por lo tanto, puntajes TF-IDF más altos. La Falta de comprensión semántica de CountVectorizer y de TfidfVectorizer puede conducir a resultados inexactos en ciertas tareas de PNL. Por ejemplo, las palabras con significados opuestos se tratan con la misma importancia en CountVectorizer y TfidfVectorizer."
   ]
  },
  {
   "cell_type": "markdown",
   "metadata": {},
   "source": [
    "Finalmente, ambas técnicas se basan únicamente en la frecuencia de las palabras dentro de un documento y no capturan el contexto en el que aparecen las palabras. Esto puede ser una limitación para ciertas tareas de PNL, como el análisis de sentimientos, donde el significado de las palabras puede depender del contexto en el que aparecen."
   ]
  },
  {
   "cell_type": "markdown",
   "metadata": {},
   "source": [
    "Referencias:\n",
    "\n",
    "- Hakan Altınçay, Zafer Erenel, (2010). Analytical evaluation of term weighting schemes for text categorization, Pattern Recognition Letters, Volume 31, Issue 11, 2010, Pages 1310-1323, ISSN 0167-8655, https://doi.org/10.1016/j.patrec.2010.03.012.\n",
    "    \n",
    "- Li-Ping Jing, Hou-Kuan Huang and Hong-Bo Shi (2002). \"Improved feature selection approach TFIDF in text mining,\" Proceedings. International Conference on Machine Learning and Cybernetics, Beijing, China, 2002, pp. 944-946 vol.2, doi: 10.1109/ICMLC.2002.1174522. \n",
    "    \n",
    "- Mazyad, A., Teytaud, F., Fonlupt, C. (2018). A Comparative Study on Term Weighting Schemes for Text Classification. In: Nicosia, G., Pardalos, P., Giuffrida, G., Umeton, R. (eds) Machine Learning, Optimization, and Big Data. MOD 2017. Lecture Notes in Computer Science(), vol 10710. Springer, Cham. https://doi.org/10.1007/978-3-319-72926-8_9."
   ]
  },
  {
   "cell_type": "markdown",
   "metadata": {},
   "source": [
    "## Punto 4 - Tokenización con TfidfVectorizer\n",
    "\n",
    "En la celda 4 creen y entrenen el mismo modelo de regresión del primer punto, para que prediga la probabilidad de que un comentario sea tóxico, usando los set de entrenamiento y test definidos anteriormente. Procesen los comentarios con la función **TfidfVectorizer** y presenten el desempeño del modelo con la métrica del MSE.\n",
    "\n",
    "Recuerden que el preprocesamiento que se haga sobre los datos de entrenamiento  (*.fit_transform()*) deben ser aplicado al set de test (*.transform()*)."
   ]
  },
  {
   "cell_type": "code",
   "execution_count": 53,
   "metadata": {},
   "outputs": [],
   "source": [
    "# Celda 4\n",
    "vect4 = TfidfVectorizer(lowercase=False)\n",
    "Xtr_vec_4 = vect4.fit_transform(X_train)\n",
    "Xte_vec_4 = vect4.transform(X_test)"
   ]
  },
  {
   "cell_type": "code",
   "execution_count": 54,
   "metadata": {},
   "outputs": [],
   "source": [
    "regRF4 = RandomForestRegressor(max_depth = 17, max_features = 4, min_samples_leaf=5, n_jobs=-1).fit(Xtr_vec_4, y_train)\n",
    "ypredTrRF4 = regRF4.predict(Xtr_vec_4)\n",
    "ypredRF4 = regRF4.predict(Xte_vec_4)"
   ]
  },
  {
   "cell_type": "code",
   "execution_count": 55,
   "metadata": {},
   "outputs": [
    {
     "data": {
      "text/plain": [
       "0.03867573612410257"
      ]
     },
     "execution_count": 55,
     "metadata": {},
     "output_type": "execute_result"
    }
   ],
   "source": [
    "mseTr4 = mse(ypredTrRF4, y_train)\n",
    "mseTr4"
   ]
  },
  {
   "cell_type": "code",
   "execution_count": 56,
   "metadata": {},
   "outputs": [
    {
     "data": {
      "text/plain": [
       "0.039024590807875355"
      ]
     },
     "execution_count": 56,
     "metadata": {},
     "output_type": "execute_result"
    }
   ],
   "source": [
    "mse4 = mse(ypredRF4, y_test)\n",
    "mse4"
   ]
  },
  {
   "cell_type": "markdown",
   "metadata": {},
   "source": [
    "## Punto 5 - Comparación y análisis de resultados\n",
    "\n",
    "En la celda 5 comparen los resultados obtenidos de los diferentes modelos y comenten cómo el preprocesamiento de texto afecta el desempeño."
   ]
  },
  {
   "cell_type": "code",
   "execution_count": 57,
   "metadata": {},
   "outputs": [
    {
     "data": {
      "image/png": "[encoded data removed]",
      "text/plain": [
       "<Figure size 432x288 with 1 Axes>"
      ]
     },
     "metadata": {
      "needs_background": "light"
     },
     "output_type": "display_data"
    }
   ],
   "source": [
    "# Celda 5\n",
    "fig = plt.figure()\n",
    "ax = fig.add_axes([0.035,0.035,1,1])\n",
    "ax.set_title(\"Comparación del MSE de los modelos Tokenización\")\n",
    "ejeX = ['TkCountVectorizer','TkCountVectorizer y trigramas', 'TkTfidfVectorizer']\n",
    "ejeY = [round(mse1, 10), round(mse3, 10), round(mse4, 10)]\n",
    "ax.bar(ejeX,ejeY)\n",
    "fig.autofmt_xdate(rotation=45)\n",
    "def addlabels(x,y,plotP):\n",
    "    for i in range(len(x)):\n",
    "        plotP.text(i,y[i],y[i])\n",
    "addlabels(ejeX,ejeY,plt)\n",
    "plt.show()"
   ]
  },
  {
   "cell_type": "markdown",
   "metadata": {},
   "source": [
    "- En el caso base (TkCountVectorizer) se utilizó para la tokenización la función CountVectorizer que convierte una colección de documentos de texto en una matriz de conteos de tokens, en este caso no se configuró el parámetro  \"ngram_range\", es decir la fragmentación del conjunto de palabras se realizó por unigramas, adicional a esto se configuró  el parámetro  lowercase=False, es decir se definió un caso de tokenización con limpieza de mayúsculas. Por último se definió utilizar el modelo de regresión RandomForest para la predicción de la probabilidad de la toxicidad  de los comentarios.  \n",
    "\n",
    "- Al usar la tokenización con la fragmentación por unigramas se puede perder el contexto y la coherencia de las palabras, esto puede disminuir el desempeño del modelo. El resultado del MSE (Error Medio Cuadrático) para el caso base fue de 0.039032 el cual es muy cercano a los demás casos presentados  \n",
    "\n",
    "\n",
    "- Para el caso 2 (TkCountVectorizer y trigramas) se realizó el mismo procedimiento del caso base pero en la tokenización se incluyó en la función CountVectorizer el parámetro \"ngram_range=trigramas\". En este caso la fragmentación considera conjuntos de tres palabras, lo que permite considerar el contexto de las palabras y una posible mejora del desempeño. Sin embargo, el MSE es muy similar \n",
    "\n",
    "\n",
    "- En el caso 3 (TkTfidfVectorizer) en lugar de usar para la tokenización la función CountVectorizer se utilizó la función TfidfVectorizer y luego el mismo procedimiento del caso base para el modelo de regresión.  La función TfidfVectorizer adicionalmente a lo que realiza la funcion CountVectorizer permite capturar de cierta forma la importancia de algunas palabras entre los diferentes documentos, la función calcula la frecuencia de cada palabra en un documento y también tiene en cuenta la frecuencia con la que aparece la palabra dentro de una colección de documentos. Lo anterior permite mejorar el desempeño de los modelos para los casos donde los pesos de las palabras debe considerarse. En este caso el  MSE con un valor de 0.039024 es ligeramente menor que el caso base y el caso 2."
   ]
  },
  {
   "cell_type": "code",
   "execution_count": null,
   "metadata": {},
   "outputs": [],
   "source": []
  }
 ],
 "metadata": {
  "kernelspec": {
   "display_name": "Python 3",
   "language": "python",
   "name": "python3"
  },
  "language_info": {
   "codemirror_mode": {
    "name": "ipython",
    "version": 3
   },
   "file_extension": ".py",
   "mimetype": "text/x-python",
   "name": "python",
   "nbconvert_exporter": "python",
   "pygments_lexer": "ipython3",
   "version": "3.8.7"
  },
  "name": "_merged"
 },
 "nbformat": 4,
 "nbformat_minor": 4
}
